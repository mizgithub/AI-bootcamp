{
 "cells": [
  {
   "cell_type": "markdown",
   "id": "a0d1d2e1",
   "metadata": {},
   "source": [
    "<img src='images/bootcamp_icon.png' height=\"100\" width=\"100\" style=\"float:left\"><h1 style=\"display:inline-block\">AI Bootcamp :Applied AI for Research</h1>\n",
    "<img src='images/ju_logo.jpg' height=\"80\" width=\"80\" style=\"float:right\">\n",
    "<br><br><br><br><br>\n",
    "<hr style=\"border-color:blue\">\n",
    "<div style=\"display:flex\">\n",
    "<h2 style=\"display:inline\">Basics of python programming:\n",
    "<img src='images/python_logo.jpg' height=\"30\" width=\"30\"></h2>\n",
    "</div>\n",
    "\n",
    "<hr>\n",
    "<p style=\"width:80%;text-align:justify\">\n",
    "<b>Python</b> is a high-level, general-purpose, and interpreted programming language used in various sectors including machine learning, artificial intelligence, data analysis, web development, and many more. Python is known for its ease of use, powerful standard library, and dynamic semantics. It also has a large community of developers who keep on contributing towards its growth. The major focus behind creating it is making it easier for developers to read and understand, also reducing the lines of code.\n",
    "</p>\n",
    "<br>\n",
    "<h3>Topics</h3>\n",
    "<table style=\"border:1px solid blue;font-size:14px\">\n",
    "    <tr><td>\n",
    "        <ul style=\"text-align:left\">\n",
    "        <li>Variables and basic input output</li>\n",
    "        <li>Operators: Arthemetic, comparision, logical .</li>\n",
    "        <li>Collection: List, tuple, dictionary</li>\n",
    "        </ul></td>\n",
    "        <td>\n",
    "            <ul style=\"text-align:left\">\n",
    "            <li>Control Satatement: Conditional, loop</li>\n",
    "            <li>Function</li>\n",
    "            <li>File IO basics</li>\n",
    "            </ul>\n",
    "         </td></tr>\n",
    "</table>"
   ]
  },
  {
   "cell_type": "markdown",
   "id": "9126ba44",
   "metadata": {},
   "source": [
    "## 1. Input output"
   ]
  },
  {
   "cell_type": "code",
   "execution_count": 1,
   "id": "fb296354",
   "metadata": {},
   "outputs": [
    {
     "name": "stdout",
     "output_type": "stream",
     "text": [
      "Hello world\n"
     ]
    }
   ],
   "source": [
    "# Display output using print\n",
    "print(\"Hello world\")"
   ]
  },
  {
   "cell_type": "code",
   "execution_count": 4,
   "id": "de56bf34",
   "metadata": {},
   "outputs": [
    {
     "name": "stdout",
     "output_type": "stream",
     "text": [
      "please enter your name->kebede\n",
      "Your name is: kebede\n"
     ]
    }
   ],
   "source": [
    "#Accepting input through input\n",
    "name = input(\"please enter your name->\")\n",
    "\n",
    "print(\"Your name is:\", name)"
   ]
  },
  {
   "cell_type": "markdown",
   "id": "f6c71ffd",
   "metadata": {},
   "source": [
    "## 2 Variable and data type"
   ]
  },
  {
   "cell_type": "markdown",
   "id": "0be4b0a4",
   "metadata": {},
   "source": [
    "## Variable declaration\n",
    "Variables names can contain `a-z`, `A-Z`, `0-9` and some special character as `_` but must always begin by a letter. By convention, variables names are smallcase. \n",
    "\n",
    "## Types\n",
    "Variables are *weakly typed* in python which means that their type is deduced from the context: the initialization or the types of the variables used for its computation. Observe the following example."
   ]
  },
  {
   "cell_type": "code",
   "execution_count": 12,
   "id": "2d3646ee",
   "metadata": {},
   "outputs": [
    {
     "name": "stdout",
     "output_type": "stream",
     "text": [
      "3 <class 'int'> \n",
      "____\n",
      "\n",
      "3.14 <class 'float'> \n",
      "____\n",
      "\n",
      "False <class 'bool'> \n",
      "____\n",
      "\n",
      "[1, 2, 3] <class 'list'> \n",
      "____\n",
      "\n",
      "(1, 2, 3) <class 'tuple'> \n",
      "____\n",
      "\n",
      "{'name': 'kebede', 'age': 30} <class 'dict'> \n",
      "____\n",
      "\n"
     ]
    }
   ],
   "source": [
    "a = 3\n",
    "print(a,type(a),\"\\n____\\n\")\n",
    "\n",
    "b = 3.14\n",
    "print(b,type(b),\"\\n____\\n\")\n",
    "\n",
    "\n",
    "c = False\n",
    "print(c, type(c),\"\\n____\\n\")\n",
    "\n",
    "d = [1,2,3]\n",
    "print(d, type(d),\"\\n____\\n\")\n",
    "e = (1,2,3,)\n",
    "print(e, type(e),\"\\n____\\n\")\n",
    "f = {\"name\":\"kebede\",\"age\":30}\n",
    "print(f, type(f),\"\\n____\\n\")"
   ]
  },
  {
   "cell_type": "markdown",
   "id": "0c6b97f0",
   "metadata": {},
   "source": [
    "### Casting\n",
    "This typing can lead to some variable having unwanted types, which can be resolved by *casting*"
   ]
  },
  {
   "cell_type": "code",
   "execution_count": 14,
   "id": "dd67b797",
   "metadata": {},
   "outputs": [
    {
     "name": "stdout",
     "output_type": "stream",
     "text": [
      "3.3333333333333335 <class 'float'>\n",
      "1.0 <class 'float'>\n",
      "1 <class 'int'>\n"
     ]
    }
   ],
   "source": [
    "e = 10/3\n",
    "print(e,type(e))\n",
    "f = (10/3)/(10/3)\n",
    "print(f,type(f))\n",
    "f = int((10/3)/(10/3))  ## cating float into integer\n",
    "print(f,type(f))"
   ]
  },
  {
   "cell_type": "markdown",
   "id": "fba79aac",
   "metadata": {},
   "source": [
    "## Operation on numbers\n",
    "\n",
    "The usual operations are \n",
    "* Addition, Subtraction, Multiplication and Division with respecively `+`, `-`, `*` and `/`\n",
    "* Exponent with `**`\n",
    "* Modulo with `%`"
   ]
  },
  {
   "cell_type": "code",
   "execution_count": 19,
   "id": "3308ea47",
   "metadata": {},
   "outputs": [
    {
     "name": "stdout",
     "output_type": "stream",
     "text": [
      "21\n"
     ]
    }
   ],
   "source": [
    "print(7 * 3) "
   ]
  },
  {
   "cell_type": "code",
   "execution_count": 20,
   "id": "f42d7346",
   "metadata": {},
   "outputs": [
    {
     "name": "stdout",
     "output_type": "stream",
     "text": [
      "1.5\n"
     ]
    }
   ],
   "source": [
    "print(3/2)"
   ]
  },
  {
   "cell_type": "code",
   "execution_count": 21,
   "id": "6123e351",
   "metadata": {},
   "outputs": [
    {
     "name": "stdout",
     "output_type": "stream",
     "text": [
      "1024\n"
     ]
    }
   ],
   "source": [
    "print(2**10)  "
   ]
  },
  {
   "cell_type": "code",
   "execution_count": 23,
   "id": "b5bb766c",
   "metadata": {},
   "outputs": [
    {
     "name": "stdout",
     "output_type": "stream",
     "text": [
      "2\n"
     ]
    }
   ],
   "source": [
    "print(8%3)"
   ]
  },
  {
   "cell_type": "code",
   "execution_count": 28,
   "id": "1753ed6a",
   "metadata": {},
   "outputs": [
    {
     "name": "stdout",
     "output_type": "stream",
     "text": [
      "41.0\n"
     ]
    }
   ],
   "source": [
    "print(2+4*10-5/5)"
   ]
  },
  {
   "cell_type": "markdown",
   "id": "96f583d9",
   "metadata": {},
   "source": [
    "## Relational and logical operators \n",
    " \n",
    "*  `>`, `>=` (greater, greater or equal), `<`, `<=` (smaller, smaller or equal) or (in, not in) membership `==` , `!=` (equality, different).\n",
    "* logical operations `and`, `not`, `or`.\n",
    "\n",
    "\n",
    "<br><b>NB: </b>The result of relational or logical operators is a boolean value (False or True)"
   ]
  },
  {
   "cell_type": "code",
   "execution_count": 29,
   "id": "54fb25cf",
   "metadata": {},
   "outputs": [
    {
     "name": "stdout",
     "output_type": "stream",
     "text": [
      "2 > 1\t True\n",
      "2 > 2\t False\n",
      "2 >= 2\t True\n",
      "2 == 2\t True\n",
      "2 == 2.0 True\n",
      "2 != 1.9 True\n"
     ]
    }
   ],
   "source": [
    "print('2 > 1\\t', 2 > 1)   \n",
    "print('2 > 2\\t', 2 > 2) \n",
    "print('2 >= 2\\t',2 >= 2) \n",
    "print('2 == 2\\t',2 == 2) \n",
    "print('2 == 2.0',2 == 2.0) \n",
    "print('2 != 1.9',2 != 1.9) "
   ]
  },
  {
   "cell_type": "code",
   "execution_count": 30,
   "id": "b0435ad4",
   "metadata": {},
   "outputs": [
    {
     "name": "stdout",
     "output_type": "stream",
     "text": [
      "False\n",
      "True\n",
      "True\n"
     ]
    }
   ],
   "source": [
    "print(True and False)\n",
    "print(True or True)\n",
    "print(not False)"
   ]
  },
  {
   "cell_type": "markdown",
   "id": "e43b80c6",
   "metadata": {},
   "source": [
    "## Lists \n",
    "\n",
    "Lists are the base element for sequences of variables in python, they are themselves a variable type. \n",
    "* The syntax to write them is `[ ... , ... ]`\n",
    "* The types of the elements may not be all the same\n",
    "* The indices begin at $0$ (`l[0]` is the first element of `l`)\n",
    "* Lists can be nested (lists of lists of ...)\n",
    "\n",
    "\n",
    "*Warning:* Another type called *tuple* with the syntax `( ... , ... )` exists in Python. It has almost the same structure than list to the notable exceptions that one cannot add or remove elements from a tuple. We will see them briefly later "
   ]
  },
  {
   "cell_type": "code",
   "execution_count": 31,
   "id": "4c8153a6",
   "metadata": {},
   "outputs": [
    {
     "name": "stdout",
     "output_type": "stream",
     "text": [
      "[1, 2, 3, [4, 8], True, 2.3] <class 'list'>\n"
     ]
    }
   ],
   "source": [
    "l = [1, 2, 3, [4,8] , True , 2.3]\n",
    "print(l, type(l))"
   ]
  },
  {
   "cell_type": "code",
   "execution_count": 32,
   "id": "456e12f2",
   "metadata": {},
   "outputs": [
    {
     "name": "stdout",
     "output_type": "stream",
     "text": [
      "[1, 2, 3, [4, 8], True, 2.3]\n",
      "[True, 2.3]\n",
      "[1, 2, 3, [4, 8], True]\n",
      "[True]\n",
      "[2, [4, 8], 2.3]\n",
      "[2.3, True, [4, 8], 3, 2, 1]\n",
      "2.3\n"
     ]
    }
   ],
   "source": [
    "print(l)\n",
    "print(l[4:]) # l[4:] is l from the position 4 (included)\n",
    "print(l[:5]) # l[:5] is l up to position 5 (excluded)\n",
    "print(l[4:5]) # l[4:5] is l between 4 (included) and 5 (excluded) so just 4\n",
    "print(l[1:6:2])  # l[1:6:2] is l between 1 (included) and 6 (excluded) by steps of 2 thus 1,3,5\n",
    "print(l[::-1]) # reversed order\n",
    "print(l[-1]) # last element"
   ]
  },
  {
   "cell_type": "markdown",
   "id": "1c284619",
   "metadata": {},
   "source": [
    "### Operations on lists \n",
    "\n",
    "One can add, insert, remove, count, or test if a element is in a list easily"
   ]
  },
  {
   "cell_type": "code",
   "execution_count": 34,
   "id": "6dc24717",
   "metadata": {},
   "outputs": [
    {
     "name": "stdout",
     "output_type": "stream",
     "text": [
      "[1, 2, 3, [4, 8], True, 2.3, 10]\n"
     ]
    }
   ],
   "source": [
    "l.append(10)   # Add an element to l (the list is not copied, it is actually l that is modified)\n",
    "print(l)"
   ]
  },
  {
   "cell_type": "code",
   "execution_count": 35,
   "id": "da76f461",
   "metadata": {},
   "outputs": [
    {
     "name": "stdout",
     "output_type": "stream",
     "text": [
      "[1, 'u', 2, 3, [4, 8], True, 2.3, 10]\n"
     ]
    }
   ],
   "source": [
    "l.insert(1,'u')   # Insert an element at position 1 in l (the list is not copied, it is actually l that is modified)\n",
    "print(l)"
   ]
  },
  {
   "cell_type": "code",
   "execution_count": 36,
   "id": "6c7dfc9a",
   "metadata": {},
   "outputs": [
    {
     "name": "stdout",
     "output_type": "stream",
     "text": [
      "[1, 'u', 2, 3, [4, 8], True, 2.3]\n"
     ]
    }
   ],
   "source": [
    "l.remove(10) # Remove the first element 10 of l \n",
    "print(l)"
   ]
  },
  {
   "cell_type": "code",
   "execution_count": 40,
   "id": "a73668c2",
   "metadata": {},
   "outputs": [
    {
     "name": "stdout",
     "output_type": "stream",
     "text": [
      "7\n",
      "True\n"
     ]
    }
   ],
   "source": [
    "print(len(l)) # length of a list\n",
    "print(2 in l)  # test if 2 is in l : mebership operation"
   ]
  },
  {
   "cell_type": "markdown",
   "id": "9b3f61da",
   "metadata": {},
   "source": [
    "## Tuples\n",
    "\n",
    "\n",
    "* Tuples are similar to list but are created with `(...,...)` or simply comas. <b style=\"color:red\">They cannot be changed once created.</b>"
   ]
  },
  {
   "cell_type": "code",
   "execution_count": 41,
   "id": "61fe79ca",
   "metadata": {},
   "outputs": [
    {
     "name": "stdout",
     "output_type": "stream",
     "text": [
      "(1, 'b', 876876.908) <class 'tuple'>\n",
      "1\n"
     ]
    }
   ],
   "source": [
    "t = (1,'b',876876.908)\n",
    "print(t,type(t))\n",
    "print(t[0])"
   ]
  },
  {
   "cell_type": "code",
   "execution_count": 45,
   "id": "c1125434",
   "metadata": {},
   "outputs": [
    {
     "name": "stdout",
     "output_type": "stream",
     "text": [
      "'tuple' object does not support item assignment ,tuple cannot be modified\n"
     ]
    }
   ],
   "source": [
    "u= (1,3,4)\n",
    "try:\n",
    "    u[1] = 2\n",
    "except Exception as error: \n",
    "    print(error, \",tuple cannot be modified\")"
   ]
  },
  {
   "cell_type": "markdown",
   "id": "5a3ca2fb",
   "metadata": {},
   "source": [
    "## Dictionary\n",
    "\n",
    "Dictionaries are aimed at storing values of the form *key-value* with the syntax `{key1 : value1, ...}`\n",
    "\n",
    "This type is often used as a return type in librairies."
   ]
  },
  {
   "cell_type": "code",
   "execution_count": 46,
   "id": "d2cbfeaa",
   "metadata": {},
   "outputs": [
    {
     "name": "stdout",
     "output_type": "stream",
     "text": [
      "{'param1': 1.0, 'param2': True, 'param3': 'red'} <class 'dict'>\n"
     ]
    }
   ],
   "source": [
    "d = {\"param1\" : 1.0, \"param2\" : True, \"param3\" : \"red\"}\n",
    "print(d,type(d))"
   ]
  },
  {
   "cell_type": "code",
   "execution_count": 48,
   "id": "692e750c",
   "metadata": {},
   "outputs": [
    {
     "name": "stdout",
     "output_type": "stream",
     "text": [
      "{'param1': 2.4, 'param2': True, 'param3': 'red'}\n"
     ]
    }
   ],
   "source": [
    "d[\"param1\"] = 2.4\n",
    "print(d)"
   ]
  },
  {
   "cell_type": "markdown",
   "id": "87faa626",
   "metadata": {},
   "source": [
    "\n",
    "\n",
    "\n",
    "\n",
    "\n",
    "\n",
    "# 3 Control Statement (Conditional(branching) and Loop statements)"
   ]
  },
  {
   "cell_type": "markdown",
   "id": "b2776aa2",
   "metadata": {},
   "source": [
    "## Conditional Statements\n",
    "### If, Elif, Else \n",
    "\n",
    "In Python, the formulation for branching is the  `if:` condition (mind the `:`) followed by an indentation of *one tab* that represents what is executed if the condition is true. **The indentation is primordial and at the core of Python.**  "
   ]
  },
  {
   "cell_type": "code",
   "execution_count": 50,
   "id": "a94391ce",
   "metadata": {},
   "outputs": [
    {
     "name": "stdout",
     "output_type": "stream",
     "text": [
      "The statement is true\n"
     ]
    }
   ],
   "source": [
    "statement = True\n",
    "if statement:\n",
    "    print(\"The statement is true\")\n",
    "else:\n",
    "    print(\"The statement is false\")"
   ]
  },
  {
   "cell_type": "code",
   "execution_count": 52,
   "id": "035255d2",
   "metadata": {},
   "outputs": [
    {
     "name": "stdout",
     "output_type": "stream",
     "text": [
      "statement1 and statement2 are False\n"
     ]
    }
   ],
   "source": [
    "statement1 = False\n",
    "statement2 = False\n",
    "\n",
    "if statement1:\n",
    "    print(\"statement1 is True\")\n",
    "elif statement2:\n",
    "    print(\"statement2 is True\")\n",
    "else:\n",
    "    print(\"statement1 and statement2 are False\")"
   ]
  },
  {
   "cell_type": "code",
   "execution_count": 53,
   "id": "a4e3f423",
   "metadata": {},
   "outputs": [],
   "source": [
    "if statement1:\n",
    "    if statement2: # Bad indentation!\n",
    "    #print(\"both statement1 and statement2 are True\") # Uncommenting Would cause an error\n",
    "        print(\"here it is ok\")\n",
    "    print(\"after the previous line, here also\")"
   ]
  },
  {
   "cell_type": "code",
   "execution_count": 57,
   "id": "5eefbd8e",
   "metadata": {},
   "outputs": [
    {
     "name": "stdout",
     "output_type": "stream",
     "text": [
      "Odd\n"
     ]
    }
   ],
   "source": [
    "#odd or even\n",
    "number = 7\n",
    "if number%2==0:\n",
    "    print(\"Even\")\n",
    "else:\n",
    "    print(\"Odd\")"
   ]
  },
  {
   "cell_type": "markdown",
   "id": "0e8b9bed",
   "metadata": {},
   "source": [
    "### ***Excercise\n",
    "Write a python program that can print letter grade of a student from a given total mark\n",
    "Use this table as a reffernce\n",
    "<table>\n",
    "<tr><td>>=90</td><td>>=85</td><td>>=80</td><td>>=75</td><td>>=70</td><td>>=65</td><td>>=60</td><td>>=50</td><td><50</td></tr>\n",
    "<tr><td>A+</td><td>A</td><td>A-</td><td>B+</td><td>B</td><td>B-</td><td>C</td><td>C-</td><td>F</td></tr>\n",
    "</table>"
   ]
  },
  {
   "cell_type": "code",
   "execution_count": 55,
   "id": "6531d756",
   "metadata": {},
   "outputs": [],
   "source": [
    "## Solution here\n"
   ]
  },
  {
   "cell_type": "markdown",
   "id": "9dc01c06",
   "metadata": {},
   "source": [
    "## Loop\n",
    "Looping statement are used to perform part of a program iteratively for number of times\n",
    "for loop, while loop\n",
    "In python loops are most often used when dealing with collection variables (List, tuple, dictionary). \n",
    "They are also usefull to travers a folder surinf file IO operations"
   ]
  },
  {
   "cell_type": "markdown",
   "id": "e3e4f3b9",
   "metadata": {},
   "source": [
    "### For loop"
   ]
  },
  {
   "cell_type": "markdown",
   "id": "0ccc68c1",
   "metadata": {},
   "source": [
    "The syntax of `for` loops is `for x in something:` followed by an indentation of one tab which represents what will be executed. \n",
    "\n",
    "The `something` above can be of different nature: list, dictionary, etc."
   ]
  },
  {
   "cell_type": "code",
   "execution_count": 1,
   "id": "abbc6edf",
   "metadata": {},
   "outputs": [
    {
     "name": "stdout",
     "output_type": "stream",
     "text": [
      "1\n",
      "2\n",
      "3\n"
     ]
    }
   ],
   "source": [
    "for x in [1, 2, 3]:\n",
    "    print(x)"
   ]
  },
  {
   "cell_type": "code",
   "execution_count": 2,
   "id": "e1a13d05",
   "metadata": {},
   "outputs": [
    {
     "name": "stdout",
     "output_type": "stream",
     "text": [
      "Python for data Science \n"
     ]
    }
   ],
   "source": [
    "sentence = \"\"\n",
    "for word in [\"Python\", \"for\", \"data\", \"Science\"]:\n",
    "    sentence = sentence + word + \" \"\n",
    "print(sentence)"
   ]
  },
  {
   "cell_type": "markdown",
   "id": "f2a81bd8",
   "metadata": {},
   "source": [
    "A useful function is <b>range</b> which generated sequences of numbers that can be used in loops."
   ]
  },
  {
   "cell_type": "code",
   "execution_count": 3,
   "id": "71acae4e",
   "metadata": {},
   "outputs": [
    {
     "name": "stdout",
     "output_type": "stream",
     "text": [
      "Range (from 0) to 4 (excluded) \n",
      "0\n",
      "1\n",
      "2\n",
      "3\n",
      "Range from 2 (included) to 6 (excluded) \n",
      "2\n",
      "3\n",
      "4\n",
      "5\n",
      "Range from 1 (included) to 12 (excluded) by steps of 3 \n",
      "1\n",
      "4\n",
      "7\n",
      "10\n"
     ]
    }
   ],
   "source": [
    "print(\"Range (from 0) to 4 (excluded) \")\n",
    "for x in range(4): \n",
    "    print(x)   \n",
    "\n",
    "print(\"Range from 2 (included) to 6 (excluded) \")\n",
    "for x in range(2,6): \n",
    "    print(x)\n",
    "\n",
    "print(\"Range from 1 (included) to 12 (excluded) by steps of 3 \")\n",
    "for x in range(1,12,3): \n",
    "    print(x)"
   ]
  },
  {
   "cell_type": "markdown",
   "id": "5c93f75a",
   "metadata": {},
   "source": [
    "\n",
    "<b>If the index is needed along with the value, the function `enumerate` is useful.</b>"
   ]
  },
  {
   "cell_type": "code",
   "execution_count": 4,
   "id": "d0e13a26",
   "metadata": {},
   "outputs": [
    {
     "name": "stdout",
     "output_type": "stream",
     "text": [
      "0 -3\n",
      "1 -2\n",
      "2 -1\n",
      "3 0\n",
      "4 1\n",
      "5 2\n"
     ]
    }
   ],
   "source": [
    "for idx, x in enumerate(range(-3,3)):\n",
    "    print(idx, x)"
   ]
  },
  {
   "cell_type": "markdown",
   "id": "28eb09dd",
   "metadata": {},
   "source": [
    "### While loop\n",
    "\n",
    "Similarly to `for` loops, the syntax is`while condition:` followed by an indentation of one tab which represents what will be executed. "
   ]
  },
  {
   "cell_type": "code",
   "execution_count": 5,
   "id": "a4e64093",
   "metadata": {},
   "outputs": [
    {
     "name": "stdout",
     "output_type": "stream",
     "text": [
      "0\n",
      "1\n",
      "2\n",
      "3\n",
      "4\n"
     ]
    }
   ],
   "source": [
    "i = 0\n",
    "\n",
    "while i<5:\n",
    "    print(i)\n",
    "    i+=1"
   ]
  },
  {
   "cell_type": "markdown",
   "id": "a33c29ef",
   "metadata": {},
   "source": [
    "# 3 Functions\n",
    "\n",
    "\n",
    "In Python, a function is defined as  `def function_name(function_arguments):` followed by an indentation representing what is inside the function. (No return arguments are provided a priori)"
   ]
  },
  {
   "cell_type": "code",
   "execution_count": 9,
   "id": "98269ae8",
   "metadata": {},
   "outputs": [
    {
     "name": "stdout",
     "output_type": "stream",
     "text": [
      "Hello from function\n"
     ]
    }
   ],
   "source": [
    "def fun0():\n",
    "    print(\"Hello from function\")\n",
    "\n",
    "fun0()"
   ]
  },
  {
   "cell_type": "markdown",
   "id": "be3373f2",
   "metadata": {},
   "source": [
    "If the function expected to return a value use `return`"
   ]
  },
  {
   "cell_type": "code",
   "execution_count": 17,
   "id": "aeac0ec9",
   "metadata": {},
   "outputs": [
    {
     "name": "stdout",
     "output_type": "stream",
     "text": [
      "4\n"
     ]
    }
   ],
   "source": [
    "def square_of_two():\n",
    "    return(2 ** 2)\n",
    "\n",
    "\n",
    "res = square_of_two()\n",
    "print(res)"
   ]
  },
  {
   "cell_type": "markdown",
   "id": "4680a376",
   "metadata": {},
   "source": [
    "## Arguments\n",
    "\n",
    "It is possible to \n",
    "* Give the arguments in any order provided that you write the corresponding argument variable name\n",
    "* Set defaults values to variables so that they become optional"
   ]
  },
  {
   "cell_type": "code",
   "execution_count": 20,
   "id": "952abcf3",
   "metadata": {},
   "outputs": [
    {
     "name": "stdout",
     "output_type": "stream",
     "text": [
      "144\n"
     ]
    }
   ],
   "source": [
    "def square_of_x(x):\n",
    "    return x**2\n",
    "res = square_of_x(12)\n",
    "print(res)"
   ]
  },
  {
   "cell_type": "code",
   "execution_count": 23,
   "id": "a8745ac8",
   "metadata": {},
   "outputs": [],
   "source": [
    "def fancy_power(x, p=2):\n",
    "\n",
    "    return(x**p)"
   ]
  },
  {
   "cell_type": "code",
   "execution_count": 24,
   "id": "1ff1028d",
   "metadata": {},
   "outputs": [
    {
     "name": "stdout",
     "output_type": "stream",
     "text": [
      "25\n",
      "125\n"
     ]
    }
   ],
   "source": [
    "print(fancy_power(5))\n",
    "print(fancy_power(5,p=3))"
   ]
  },
  {
   "cell_type": "markdown",
   "id": "3e3a3691",
   "metadata": {},
   "source": [
    "# 5- Reading and writing files\n",
    "\n",
    "\n",
    "\n",
    "`open` returns a file object, and is most commonly used with two arguments: `open(filename, mode)`.\n",
    "\n",
    "The first argument is a string containing the filename. The second argument is another string containing a few characters describing the way in which the file will be used (optional, 'r' will be assumed if it’s omitted.):\n",
    "* 'r' when the file will only be read\n",
    "* 'w' for only writing (an existing file with the same name will be erased)\n",
    "* 'a' opens the file for appending; any data written to the file is automatically added to the end"
   ]
  },
  {
   "cell_type": "code",
   "execution_count": 31,
   "id": "1a2fb689",
   "metadata": {},
   "outputs": [
    {
     "name": "stdout",
     "output_type": "stream",
     "text": [
      "<_io.TextIOWrapper name='test.txt' mode='w' encoding='cp1252'>\n"
     ]
    }
   ],
   "source": [
    "f = open('test.txt', 'w')\n",
    "print(f)"
   ]
  },
  {
   "cell_type": "code",
   "execution_count": 33,
   "id": "2ec88891",
   "metadata": {},
   "outputs": [
    {
     "data": {
      "text/plain": [
       "21"
      ]
     },
     "execution_count": 33,
     "metadata": {},
     "output_type": "execute_result"
    }
   ],
   "source": [
    "f.write(\"This is a test\\n\")\n",
    "f.write(\"This is a second test\")"
   ]
  },
  {
   "cell_type": "code",
   "execution_count": 34,
   "id": "6a95c46a",
   "metadata": {},
   "outputs": [],
   "source": [
    "f.close()"
   ]
  },
  {
   "cell_type": "markdown",
   "id": "6bd68d9b",
   "metadata": {},
   "source": [
    "Warning: For the file to be actually written and being able to be opened and modified again without mistakes, it is primordial to close the file handle with f.close()\n",
    "\n",
    "f.read() will read an entire file and put the pointer at the end."
   ]
  },
  {
   "cell_type": "code",
   "execution_count": 35,
   "id": "5b954d92",
   "metadata": {},
   "outputs": [
    {
     "data": {
      "text/plain": [
       "'This is a test\\nThis is a test\\nThis is a second test'"
      ]
     },
     "execution_count": 35,
     "metadata": {},
     "output_type": "execute_result"
    }
   ],
   "source": [
    "f = open('test.txt', 'r')\n",
    "f.read()"
   ]
  },
  {
   "cell_type": "code",
   "execution_count": 36,
   "id": "85775f00",
   "metadata": {},
   "outputs": [
    {
     "data": {
      "text/plain": [
       "''"
      ]
     },
     "execution_count": 36,
     "metadata": {},
     "output_type": "execute_result"
    }
   ],
   "source": [
    "f.readline()"
   ]
  },
  {
   "cell_type": "markdown",
   "id": "7f5e4677",
   "metadata": {},
   "source": [
    "The end of the file has be reached so the command returns ''. \n",
    "\n",
    "To get to the top, use  `f.seek(offset, from_what)`. The position is computed from adding `offset` to a reference point; the reference point is selected by the `from_what` argument. A `from_what` value of 0 measures from the beginning of the file, 1 uses the current file position, and 2 uses the end of the file as the reference point. from_what can be omitted and defaults to 0, using the beginning of the file as the reference point. Thus `f.seek(0)` goes to the top."
   ]
  },
  {
   "cell_type": "code",
   "execution_count": 37,
   "id": "75ea4974",
   "metadata": {},
   "outputs": [
    {
     "data": {
      "text/plain": [
       "'This is a test\\n'"
      ]
     },
     "execution_count": 37,
     "metadata": {},
     "output_type": "execute_result"
    }
   ],
   "source": [
    "f.seek(0)\n",
    "f.readline()"
   ]
  },
  {
   "cell_type": "markdown",
   "id": "a218f3bd",
   "metadata": {},
   "source": [
    "For reading lines from a file, you can loop over the file object. This is memory efficient, fast, and leads to simple code:"
   ]
  },
  {
   "cell_type": "code",
   "execution_count": 38,
   "id": "412a46ac",
   "metadata": {},
   "outputs": [
    {
     "name": "stdout",
     "output_type": "stream",
     "text": [
      "This is a test\n",
      "\n",
      "This is a test\n",
      "\n",
      "This is a second test\n"
     ]
    }
   ],
   "source": [
    "f.seek(0)\n",
    "for line in f:\n",
    "    print(line)\n",
    "\n",
    "f.close()"
   ]
  },
  {
   "cell_type": "markdown",
   "id": "3ae6977c",
   "metadata": {},
   "source": [
    "<hr style=\"border:1px double yellow\">\n",
    "<h1>Execrcises</h1>"
   ]
  },
  {
   "cell_type": "markdown",
   "id": "abe38382",
   "metadata": {},
   "source": [
    "Exercise 1: Odd or Even\n",
    "\n",
    "Check if this number is odd or even. Optionnaly, handle bad inputs (character, float, signs, etc)"
   ]
  },
  {
   "cell_type": "code",
   "execution_count": 42,
   "id": "33e7d627",
   "metadata": {},
   "outputs": [],
   "source": [
    "##write the solution here"
   ]
  },
  {
   "cell_type": "markdown",
   "id": "8834c384",
   "metadata": {},
   "source": [
    "Exercise 2: Fibonacci\n",
    "\n",
    "The Fibonacci seqence is a sequence of numbers where the next number in the sequence is the sum of the previous two numbers in the sequence. The sequence looks like this: 1, 1, 2, 3, 5, 8, 13. Write a function that generate a given number of elements of the Fibonacci sequence."
   ]
  },
  {
   "cell_type": "code",
   "execution_count": 43,
   "id": "dcd13bb1",
   "metadata": {},
   "outputs": [],
   "source": [
    "## write the solution here"
   ]
  },
  {
   "cell_type": "markdown",
   "id": "ea2234c5",
   "metadata": {},
   "source": [
    "**Exercise 3:\n",
    "    If we list all the natural numbers below 10 that are multiples of 3 or 5, we get 3, 5, 6 and 9. The sum of these multiples is 23.\n",
    "\n",
    "    Find the sum of all the multiples of 3 or 5 below 1000.\n"
   ]
  },
  {
   "cell_type": "code",
   "execution_count": 44,
   "id": "062b994f",
   "metadata": {},
   "outputs": [],
   "source": [
    "## write the solution here"
   ]
  },
  {
   "cell_type": "markdown",
   "id": "ff3a90a1",
   "metadata": {},
   "source": [
    "<img src='images/bootcamp_icon.png' height=\"100\" width=\"100\" style=\"float:left\"><h1 style=\"display:inline-block\">AI Bootcamp :Applied AI for Research</h1><br>\n",
    "<i>Basics of Python programming</i><br>\n",
    "<tt>Author: Mizanu Zelalem</tt>"
   ]
  }
 ],
 "metadata": {
  "kernelspec": {
   "display_name": "Python 3 (ipykernel)",
   "language": "python",
   "name": "python3"
  },
  "language_info": {
   "codemirror_mode": {
    "name": "ipython",
    "version": 3
   },
   "file_extension": ".py",
   "mimetype": "text/x-python",
   "name": "python",
   "nbconvert_exporter": "python",
   "pygments_lexer": "ipython3",
   "version": "3.8.0"
  }
 },
 "nbformat": 4,
 "nbformat_minor": 5
}
